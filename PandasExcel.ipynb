{
 "cells": [
  {
   "cell_type": "code",
   "execution_count": 13,
   "metadata": {
    "collapsed": true,
    "ExecuteTime": {
     "end_time": "2023-06-05T01:45:38.740016600Z",
     "start_time": "2023-06-05T01:45:38.732006Z"
    }
   },
   "outputs": [],
   "source": [
    "import pandas as pd"
   ]
  },
  {
   "cell_type": "code",
   "execution_count": 14,
   "outputs": [],
   "source": [
    "df1 = pd.read_excel(\"datasets/Aracaju.xlsx\")\n",
    "df2 = pd.read_excel(\"datasets/Fortaleza.xlsx\")\n",
    "df3 = pd.read_excel(\"datasets/Natal.xlsx\")\n",
    "df4 = pd.read_excel(\"datasets/Recife.xlsx\")\n",
    "df5 = pd.read_excel(\"datasets/Salvador.xlsx\")"
   ],
   "metadata": {
    "collapsed": false,
    "ExecuteTime": {
     "end_time": "2023-06-05T01:45:39.316955300Z",
     "start_time": "2023-06-05T01:45:39.231366500Z"
    }
   }
  },
  {
   "cell_type": "code",
   "execution_count": 15,
   "outputs": [],
   "source": [
    "df = pd.concat([df1, df2, df3, df4, df5])"
   ],
   "metadata": {
    "collapsed": false,
    "ExecuteTime": {
     "end_time": "2023-06-05T01:45:39.621691400Z",
     "start_time": "2023-06-05T01:45:39.613587800Z"
    }
   }
  },
  {
   "cell_type": "code",
   "execution_count": 16,
   "outputs": [
    {
     "data": {
      "text/plain": "    Cidade       Data  Vendas  LojaID  Qtde\n0  Aracaju 2018-01-01  142.00    1520     1\n1  Aracaju 2018-01-01   14.21    1522     6\n2  Aracaju 2018-01-01   71.55    1520     1\n3  Aracaju 2018-01-01    3.01    1521     7\n4  Aracaju 2018-01-01   24.51    1522     8",
      "text/html": "<div>\n<style scoped>\n    .dataframe tbody tr th:only-of-type {\n        vertical-align: middle;\n    }\n\n    .dataframe tbody tr th {\n        vertical-align: top;\n    }\n\n    .dataframe thead th {\n        text-align: right;\n    }\n</style>\n<table border=\"1\" class=\"dataframe\">\n  <thead>\n    <tr style=\"text-align: right;\">\n      <th></th>\n      <th>Cidade</th>\n      <th>Data</th>\n      <th>Vendas</th>\n      <th>LojaID</th>\n      <th>Qtde</th>\n    </tr>\n  </thead>\n  <tbody>\n    <tr>\n      <th>0</th>\n      <td>Aracaju</td>\n      <td>2018-01-01</td>\n      <td>142.00</td>\n      <td>1520</td>\n      <td>1</td>\n    </tr>\n    <tr>\n      <th>1</th>\n      <td>Aracaju</td>\n      <td>2018-01-01</td>\n      <td>14.21</td>\n      <td>1522</td>\n      <td>6</td>\n    </tr>\n    <tr>\n      <th>2</th>\n      <td>Aracaju</td>\n      <td>2018-01-01</td>\n      <td>71.55</td>\n      <td>1520</td>\n      <td>1</td>\n    </tr>\n    <tr>\n      <th>3</th>\n      <td>Aracaju</td>\n      <td>2018-01-01</td>\n      <td>3.01</td>\n      <td>1521</td>\n      <td>7</td>\n    </tr>\n    <tr>\n      <th>4</th>\n      <td>Aracaju</td>\n      <td>2018-01-01</td>\n      <td>24.51</td>\n      <td>1522</td>\n      <td>8</td>\n    </tr>\n  </tbody>\n</table>\n</div>"
     },
     "execution_count": 16,
     "metadata": {},
     "output_type": "execute_result"
    }
   ],
   "source": [
    "df.head()"
   ],
   "metadata": {
    "collapsed": false,
    "ExecuteTime": {
     "end_time": "2023-06-05T01:45:40.049589800Z",
     "start_time": "2023-06-05T01:45:40.036585200Z"
    }
   }
  },
  {
   "cell_type": "code",
   "execution_count": 17,
   "outputs": [
    {
     "data": {
      "text/plain": "Index(['Cidade', 'Data', 'Vendas', 'LojaID', 'Qtde'], dtype='object')"
     },
     "execution_count": 17,
     "metadata": {},
     "output_type": "execute_result"
    }
   ],
   "source": [
    "df.columns"
   ],
   "metadata": {
    "collapsed": false,
    "ExecuteTime": {
     "end_time": "2023-06-05T01:45:40.436266600Z",
     "start_time": "2023-06-05T01:45:40.428270200Z"
    }
   }
  },
  {
   "cell_type": "code",
   "execution_count": 18,
   "outputs": [
    {
     "data": {
      "text/plain": "array(['Aracaju', 'Fortaleza', 'Natal', 'Recife', 'Salvador'],\n      dtype=object)"
     },
     "execution_count": 18,
     "metadata": {},
     "output_type": "execute_result"
    }
   ],
   "source": [
    "df['Cidade'].unique()"
   ],
   "metadata": {
    "collapsed": false,
    "ExecuteTime": {
     "end_time": "2023-06-05T01:45:40.969753600Z",
     "start_time": "2023-06-05T01:45:40.956695300Z"
    }
   }
  },
  {
   "cell_type": "code",
   "execution_count": 19,
   "outputs": [
    {
     "data": {
      "text/plain": "Cidade            object\nData      datetime64[ns]\nVendas           float64\nLojaID             int64\nQtde               int64\ndtype: object"
     },
     "execution_count": 19,
     "metadata": {},
     "output_type": "execute_result"
    }
   ],
   "source": [
    "df.dtypes"
   ],
   "metadata": {
    "collapsed": false,
    "ExecuteTime": {
     "end_time": "2023-06-05T01:45:41.842625300Z",
     "start_time": "2023-06-05T01:45:41.834619800Z"
    }
   }
  },
  {
   "cell_type": "code",
   "execution_count": 20,
   "outputs": [],
   "source": [
    "#mudando o tipo de dado de uma coluna\n",
    "df['LojaID'] = df['LojaID'].astype('object')"
   ],
   "metadata": {
    "collapsed": false,
    "ExecuteTime": {
     "end_time": "2023-06-05T01:45:42.724639Z",
     "start_time": "2023-06-05T01:45:42.714639Z"
    }
   }
  },
  {
   "cell_type": "code",
   "execution_count": 21,
   "outputs": [
    {
     "data": {
      "text/plain": "       Cidade       Data  Vendas LojaID  Qtde\n237     Natal 2019-01-03   38.06   1036     3\n20      Natal 2018-06-08  608.00    852     4\n106  Salvador 2019-01-01  149.19   1035     2\n170     Natal 2019-01-02    9.26   1035     3\n150  Salvador 2019-01-02   11.13   1035     2",
      "text/html": "<div>\n<style scoped>\n    .dataframe tbody tr th:only-of-type {\n        vertical-align: middle;\n    }\n\n    .dataframe tbody tr th {\n        vertical-align: top;\n    }\n\n    .dataframe thead th {\n        text-align: right;\n    }\n</style>\n<table border=\"1\" class=\"dataframe\">\n  <thead>\n    <tr style=\"text-align: right;\">\n      <th></th>\n      <th>Cidade</th>\n      <th>Data</th>\n      <th>Vendas</th>\n      <th>LojaID</th>\n      <th>Qtde</th>\n    </tr>\n  </thead>\n  <tbody>\n    <tr>\n      <th>237</th>\n      <td>Natal</td>\n      <td>2019-01-03</td>\n      <td>38.06</td>\n      <td>1036</td>\n      <td>3</td>\n    </tr>\n    <tr>\n      <th>20</th>\n      <td>Natal</td>\n      <td>2018-06-08</td>\n      <td>608.00</td>\n      <td>852</td>\n      <td>4</td>\n    </tr>\n    <tr>\n      <th>106</th>\n      <td>Salvador</td>\n      <td>2019-01-01</td>\n      <td>149.19</td>\n      <td>1035</td>\n      <td>2</td>\n    </tr>\n    <tr>\n      <th>170</th>\n      <td>Natal</td>\n      <td>2019-01-02</td>\n      <td>9.26</td>\n      <td>1035</td>\n      <td>3</td>\n    </tr>\n    <tr>\n      <th>150</th>\n      <td>Salvador</td>\n      <td>2019-01-02</td>\n      <td>11.13</td>\n      <td>1035</td>\n      <td>2</td>\n    </tr>\n  </tbody>\n</table>\n</div>"
     },
     "execution_count": 21,
     "metadata": {},
     "output_type": "execute_result"
    }
   ],
   "source": [
    "#pegando amostras\n",
    "df.sample(5)"
   ],
   "metadata": {
    "collapsed": false,
    "ExecuteTime": {
     "end_time": "2023-06-05T01:45:43.223804800Z",
     "start_time": "2023-06-05T01:45:43.212309100Z"
    }
   }
  },
  {
   "cell_type": "code",
   "execution_count": 22,
   "outputs": [
    {
     "data": {
      "text/plain": "Cidade    0\nData      0\nVendas    0\nLojaID    0\nQtde      0\ndtype: int64"
     },
     "execution_count": 22,
     "metadata": {},
     "output_type": "execute_result"
    }
   ],
   "source": [
    "#consultando valores nulos\n",
    "df.isnull().sum()"
   ],
   "metadata": {
    "collapsed": false,
    "ExecuteTime": {
     "end_time": "2023-06-05T01:45:43.958619700Z",
     "start_time": "2023-06-05T01:45:43.950614200Z"
    }
   }
  },
  {
   "cell_type": "code",
   "execution_count": 23,
   "outputs": [],
   "source": [
    "#substituindo valores nulos pela média\n",
    "df['Vendas'].fillna(df['Vendas'].mean(), inplace=True)"
   ],
   "metadata": {
    "collapsed": false,
    "ExecuteTime": {
     "end_time": "2023-06-05T01:46:26.662921600Z",
     "start_time": "2023-06-05T01:46:26.658397700Z"
    }
   }
  },
  {
   "cell_type": "code",
   "execution_count": 24,
   "outputs": [],
   "source": [
    "#substituindo valores nulos por zero\n",
    "df['Vendas'].fillna(0, inplace=True)"
   ],
   "metadata": {
    "collapsed": false,
    "ExecuteTime": {
     "end_time": "2023-06-05T01:46:31.697398700Z",
     "start_time": "2023-06-05T01:46:31.692393400Z"
    }
   }
  },
  {
   "cell_type": "code",
   "execution_count": 25,
   "outputs": [],
   "source": [
    "#apagando linhas com valores nulos\n",
    "df.dropna(inplace=True)"
   ],
   "metadata": {
    "collapsed": false,
    "ExecuteTime": {
     "end_time": "2023-06-05T01:46:40.449338100Z",
     "start_time": "2023-06-05T01:46:40.444336700Z"
    }
   }
  },
  {
   "cell_type": "code",
   "execution_count": 26,
   "outputs": [],
   "source": [
    "#apagando linhas com valores nulos com base em uma coluna\n",
    "df.dropna(subset=['Vendas'], inplace=True)"
   ],
   "metadata": {
    "collapsed": false,
    "ExecuteTime": {
     "end_time": "2023-06-05T01:46:50.799621600Z",
     "start_time": "2023-06-05T01:46:50.795622300Z"
    }
   }
  },
  {
   "cell_type": "code",
   "execution_count": 27,
   "outputs": [],
   "source": [
    "#removendo linhas que estejam com valores faltantes em todas as colunas\n",
    "df.dropna(how='all', inplace=True)"
   ],
   "metadata": {
    "collapsed": false,
    "ExecuteTime": {
     "end_time": "2023-06-05T01:46:58.162853300Z",
     "start_time": "2023-06-05T01:46:58.157852500Z"
    }
   }
  },
  {
   "cell_type": "code",
   "execution_count": 28,
   "outputs": [],
   "source": [
    "#criando colunas novas\n",
    "df['Receita'] = df['Vendas'].mul(df['Qtde'])"
   ],
   "metadata": {
    "collapsed": false,
    "ExecuteTime": {
     "end_time": "2023-06-05T01:48:00.457153600Z",
     "start_time": "2023-06-05T01:48:00.452149600Z"
    }
   }
  },
  {
   "cell_type": "code",
   "execution_count": 29,
   "outputs": [
    {
     "data": {
      "text/plain": "    Cidade       Data  Vendas LojaID  Qtde  Receita\n0  Aracaju 2018-01-01  142.00   1520     1   142.00\n1  Aracaju 2018-01-01   14.21   1522     6    85.26\n2  Aracaju 2018-01-01   71.55   1520     1    71.55\n3  Aracaju 2018-01-01    3.01   1521     7    21.07\n4  Aracaju 2018-01-01   24.51   1522     8   196.08",
      "text/html": "<div>\n<style scoped>\n    .dataframe tbody tr th:only-of-type {\n        vertical-align: middle;\n    }\n\n    .dataframe tbody tr th {\n        vertical-align: top;\n    }\n\n    .dataframe thead th {\n        text-align: right;\n    }\n</style>\n<table border=\"1\" class=\"dataframe\">\n  <thead>\n    <tr style=\"text-align: right;\">\n      <th></th>\n      <th>Cidade</th>\n      <th>Data</th>\n      <th>Vendas</th>\n      <th>LojaID</th>\n      <th>Qtde</th>\n      <th>Receita</th>\n    </tr>\n  </thead>\n  <tbody>\n    <tr>\n      <th>0</th>\n      <td>Aracaju</td>\n      <td>2018-01-01</td>\n      <td>142.00</td>\n      <td>1520</td>\n      <td>1</td>\n      <td>142.00</td>\n    </tr>\n    <tr>\n      <th>1</th>\n      <td>Aracaju</td>\n      <td>2018-01-01</td>\n      <td>14.21</td>\n      <td>1522</td>\n      <td>6</td>\n      <td>85.26</td>\n    </tr>\n    <tr>\n      <th>2</th>\n      <td>Aracaju</td>\n      <td>2018-01-01</td>\n      <td>71.55</td>\n      <td>1520</td>\n      <td>1</td>\n      <td>71.55</td>\n    </tr>\n    <tr>\n      <th>3</th>\n      <td>Aracaju</td>\n      <td>2018-01-01</td>\n      <td>3.01</td>\n      <td>1521</td>\n      <td>7</td>\n      <td>21.07</td>\n    </tr>\n    <tr>\n      <th>4</th>\n      <td>Aracaju</td>\n      <td>2018-01-01</td>\n      <td>24.51</td>\n      <td>1522</td>\n      <td>8</td>\n      <td>196.08</td>\n    </tr>\n  </tbody>\n</table>\n</div>"
     },
     "execution_count": 29,
     "metadata": {},
     "output_type": "execute_result"
    }
   ],
   "source": [
    "df.head()"
   ],
   "metadata": {
    "collapsed": false,
    "ExecuteTime": {
     "end_time": "2023-06-05T01:48:03.432923200Z",
     "start_time": "2023-06-05T01:48:03.426921800Z"
    }
   }
  },
  {
   "cell_type": "code",
   "execution_count": 30,
   "outputs": [
    {
     "data": {
      "text/plain": "3544.0"
     },
     "execution_count": 30,
     "metadata": {},
     "output_type": "execute_result"
    }
   ],
   "source": [
    "df['Receita'].max()"
   ],
   "metadata": {
    "collapsed": false,
    "ExecuteTime": {
     "end_time": "2023-06-05T01:51:20.189951700Z",
     "start_time": "2023-06-05T01:51:20.183952400Z"
    }
   }
  },
  {
   "cell_type": "code",
   "execution_count": 31,
   "outputs": [
    {
     "data": {
      "text/plain": "3.34"
     },
     "execution_count": 31,
     "metadata": {},
     "output_type": "execute_result"
    }
   ],
   "source": [
    "df['Receita'].min()"
   ],
   "metadata": {
    "collapsed": false,
    "ExecuteTime": {
     "end_time": "2023-06-05T01:51:23.931260500Z",
     "start_time": "2023-06-05T01:51:23.925255800Z"
    }
   }
  },
  {
   "cell_type": "code",
   "execution_count": 32,
   "outputs": [
    {
     "data": {
      "text/plain": "   Cidade       Data  Vendas LojaID  Qtde  Receita\n7   Natal 2019-03-18   886.0    853     4   3544.0\n51  Natal 2018-01-21   859.0    852     4   3436.0\n55  Natal 2019-01-08   859.0    854     4   3436.0",
      "text/html": "<div>\n<style scoped>\n    .dataframe tbody tr th:only-of-type {\n        vertical-align: middle;\n    }\n\n    .dataframe tbody tr th {\n        vertical-align: top;\n    }\n\n    .dataframe thead th {\n        text-align: right;\n    }\n</style>\n<table border=\"1\" class=\"dataframe\">\n  <thead>\n    <tr style=\"text-align: right;\">\n      <th></th>\n      <th>Cidade</th>\n      <th>Data</th>\n      <th>Vendas</th>\n      <th>LojaID</th>\n      <th>Qtde</th>\n      <th>Receita</th>\n    </tr>\n  </thead>\n  <tbody>\n    <tr>\n      <th>7</th>\n      <td>Natal</td>\n      <td>2019-03-18</td>\n      <td>886.0</td>\n      <td>853</td>\n      <td>4</td>\n      <td>3544.0</td>\n    </tr>\n    <tr>\n      <th>51</th>\n      <td>Natal</td>\n      <td>2018-01-21</td>\n      <td>859.0</td>\n      <td>852</td>\n      <td>4</td>\n      <td>3436.0</td>\n    </tr>\n    <tr>\n      <th>55</th>\n      <td>Natal</td>\n      <td>2019-01-08</td>\n      <td>859.0</td>\n      <td>854</td>\n      <td>4</td>\n      <td>3436.0</td>\n    </tr>\n  </tbody>\n</table>\n</div>"
     },
     "execution_count": 32,
     "metadata": {},
     "output_type": "execute_result"
    }
   ],
   "source": [
    "#nlargest - retorna os n maiores valores de uma coluna\n",
    "df.nlargest(3, 'Receita')"
   ],
   "metadata": {
    "collapsed": false,
    "ExecuteTime": {
     "end_time": "2023-06-05T01:52:22.523969100Z",
     "start_time": "2023-06-05T01:52:22.185446100Z"
    }
   }
  },
  {
   "cell_type": "code",
   "execution_count": 33,
   "outputs": [
    {
     "data": {
      "text/plain": "      Cidade       Data  Vendas LojaID  Qtde  Receita\n118  Aracaju 2018-01-01    3.34   1522     1     3.34\n65    Recife 2019-01-01    4.01    981     1     4.01\n92     Natal 2019-01-02    4.57   1035     1     4.57",
      "text/html": "<div>\n<style scoped>\n    .dataframe tbody tr th:only-of-type {\n        vertical-align: middle;\n    }\n\n    .dataframe tbody tr th {\n        vertical-align: top;\n    }\n\n    .dataframe thead th {\n        text-align: right;\n    }\n</style>\n<table border=\"1\" class=\"dataframe\">\n  <thead>\n    <tr style=\"text-align: right;\">\n      <th></th>\n      <th>Cidade</th>\n      <th>Data</th>\n      <th>Vendas</th>\n      <th>LojaID</th>\n      <th>Qtde</th>\n      <th>Receita</th>\n    </tr>\n  </thead>\n  <tbody>\n    <tr>\n      <th>118</th>\n      <td>Aracaju</td>\n      <td>2018-01-01</td>\n      <td>3.34</td>\n      <td>1522</td>\n      <td>1</td>\n      <td>3.34</td>\n    </tr>\n    <tr>\n      <th>65</th>\n      <td>Recife</td>\n      <td>2019-01-01</td>\n      <td>4.01</td>\n      <td>981</td>\n      <td>1</td>\n      <td>4.01</td>\n    </tr>\n    <tr>\n      <th>92</th>\n      <td>Natal</td>\n      <td>2019-01-02</td>\n      <td>4.57</td>\n      <td>1035</td>\n      <td>1</td>\n      <td>4.57</td>\n    </tr>\n  </tbody>\n</table>\n</div>"
     },
     "execution_count": 33,
     "metadata": {},
     "output_type": "execute_result"
    }
   ],
   "source": [
    "#nsmallest - retorna os n menores valores de uma coluna\n",
    "df.nsmallest(3, 'Receita')"
   ],
   "metadata": {
    "collapsed": false,
    "ExecuteTime": {
     "end_time": "2023-06-05T01:52:27.027710400Z",
     "start_time": "2023-06-05T01:52:27.020711500Z"
    }
   }
  },
  {
   "cell_type": "code",
   "execution_count": 34,
   "outputs": [
    {
     "data": {
      "text/plain": "Cidade\nAracaju       48748.25\nFortaleza     37913.97\nNatal        167227.52\nRecife        51936.51\nSalvador      40596.73\nName: Receita, dtype: float64"
     },
     "execution_count": 34,
     "metadata": {},
     "output_type": "execute_result"
    }
   ],
   "source": [
    "#agrupamento por cidade\n",
    "df.groupby('Cidade')['Receita'].sum()"
   ],
   "metadata": {
    "collapsed": false,
    "ExecuteTime": {
     "end_time": "2023-06-05T01:53:31.457754900Z",
     "start_time": "2023-06-05T01:53:31.450754300Z"
    }
   }
  },
  {
   "cell_type": "code",
   "execution_count": 35,
   "outputs": [
    {
     "data": {
      "text/plain": "Cidade        \nAracaju    118     3.34\n           102     7.29\n           8      12.16\nFortaleza  81     10.68\n           92     13.96\n           34     15.50\nNatal      92      4.57\n           95      5.13\n           161     5.80\nRecife     65      4.01\n           1      11.44\n           15     14.90\nSalvador   92      4.57\n           95      5.13\n           161     5.80\nName: Receita, dtype: float64"
     },
     "execution_count": 35,
     "metadata": {},
     "output_type": "execute_result"
    }
   ],
   "source": [
    "df.groupby('Cidade')['Receita'].nsmallest(3)"
   ],
   "metadata": {
    "collapsed": false,
    "ExecuteTime": {
     "end_time": "2023-06-05T01:54:18.992885700Z",
     "start_time": "2023-06-05T01:54:18.951882Z"
    }
   }
  },
  {
   "cell_type": "code",
   "execution_count": 36,
   "outputs": [
    {
     "data": {
      "text/plain": "Cidade        \nAracaju    41     1837.12\n           94     1784.16\n           23     1662.50\nFortaleza  141    1462.00\n           69     1299.90\n           27     1274.22\nNatal      7      3544.00\n           51     3436.00\n           55     3436.00\nRecife     46     1913.36\n           141    1462.00\n           19     1396.01\nSalvador   127     721.83\n           155     713.43\n           98      695.28\nName: Receita, dtype: float64"
     },
     "execution_count": 36,
     "metadata": {},
     "output_type": "execute_result"
    }
   ],
   "source": [
    "df.groupby('Cidade')['Receita'].nlargest(3)"
   ],
   "metadata": {
    "collapsed": false,
    "ExecuteTime": {
     "end_time": "2023-06-05T01:55:09.679669400Z",
     "start_time": "2023-06-05T01:55:09.672670200Z"
    }
   }
  },
  {
   "cell_type": "code",
   "execution_count": 37,
   "outputs": [
    {
     "data": {
      "text/plain": "   Cidade       Data  Vendas LojaID  Qtde  Receita\n7   Natal 2019-03-18   886.0    853     4   3544.0\n55  Natal 2019-01-08   859.0    854     4   3436.0\n51  Natal 2018-01-21   859.0    852     4   3436.0\n30  Natal 2018-10-02   856.0    853     4   3424.0\n41  Natal 2018-05-20   835.0    852     4   3340.0\n38  Natal 2018-02-25   828.0    852     4   3312.0\n10  Natal 2018-10-27   828.0    852     4   3312.0\n69  Natal 2019-03-24   817.0    852     4   3268.0\n62  Natal 2018-02-10   793.0    854     4   3172.0\n52  Natal 2018-04-27   778.0    854     4   3112.0",
      "text/html": "<div>\n<style scoped>\n    .dataframe tbody tr th:only-of-type {\n        vertical-align: middle;\n    }\n\n    .dataframe tbody tr th {\n        vertical-align: top;\n    }\n\n    .dataframe thead th {\n        text-align: right;\n    }\n</style>\n<table border=\"1\" class=\"dataframe\">\n  <thead>\n    <tr style=\"text-align: right;\">\n      <th></th>\n      <th>Cidade</th>\n      <th>Data</th>\n      <th>Vendas</th>\n      <th>LojaID</th>\n      <th>Qtde</th>\n      <th>Receita</th>\n    </tr>\n  </thead>\n  <tbody>\n    <tr>\n      <th>7</th>\n      <td>Natal</td>\n      <td>2019-03-18</td>\n      <td>886.0</td>\n      <td>853</td>\n      <td>4</td>\n      <td>3544.0</td>\n    </tr>\n    <tr>\n      <th>55</th>\n      <td>Natal</td>\n      <td>2019-01-08</td>\n      <td>859.0</td>\n      <td>854</td>\n      <td>4</td>\n      <td>3436.0</td>\n    </tr>\n    <tr>\n      <th>51</th>\n      <td>Natal</td>\n      <td>2018-01-21</td>\n      <td>859.0</td>\n      <td>852</td>\n      <td>4</td>\n      <td>3436.0</td>\n    </tr>\n    <tr>\n      <th>30</th>\n      <td>Natal</td>\n      <td>2018-10-02</td>\n      <td>856.0</td>\n      <td>853</td>\n      <td>4</td>\n      <td>3424.0</td>\n    </tr>\n    <tr>\n      <th>41</th>\n      <td>Natal</td>\n      <td>2018-05-20</td>\n      <td>835.0</td>\n      <td>852</td>\n      <td>4</td>\n      <td>3340.0</td>\n    </tr>\n    <tr>\n      <th>38</th>\n      <td>Natal</td>\n      <td>2018-02-25</td>\n      <td>828.0</td>\n      <td>852</td>\n      <td>4</td>\n      <td>3312.0</td>\n    </tr>\n    <tr>\n      <th>10</th>\n      <td>Natal</td>\n      <td>2018-10-27</td>\n      <td>828.0</td>\n      <td>852</td>\n      <td>4</td>\n      <td>3312.0</td>\n    </tr>\n    <tr>\n      <th>69</th>\n      <td>Natal</td>\n      <td>2019-03-24</td>\n      <td>817.0</td>\n      <td>852</td>\n      <td>4</td>\n      <td>3268.0</td>\n    </tr>\n    <tr>\n      <th>62</th>\n      <td>Natal</td>\n      <td>2018-02-10</td>\n      <td>793.0</td>\n      <td>854</td>\n      <td>4</td>\n      <td>3172.0</td>\n    </tr>\n    <tr>\n      <th>52</th>\n      <td>Natal</td>\n      <td>2018-04-27</td>\n      <td>778.0</td>\n      <td>854</td>\n      <td>4</td>\n      <td>3112.0</td>\n    </tr>\n  </tbody>\n</table>\n</div>"
     },
     "execution_count": 37,
     "metadata": {},
     "output_type": "execute_result"
    }
   ],
   "source": [
    "df.sort_values('Receita', ascending=False).head(10)"
   ],
   "metadata": {
    "collapsed": false,
    "ExecuteTime": {
     "end_time": "2023-06-05T01:56:45.885717200Z",
     "start_time": "2023-06-05T01:56:45.879716300Z"
    }
   }
  },
  {
   "cell_type": "code",
   "execution_count": null,
   "outputs": [],
   "source": [],
   "metadata": {
    "collapsed": false
   }
  }
 ],
 "metadata": {
  "kernelspec": {
   "display_name": "Python 3",
   "language": "python",
   "name": "python3"
  },
  "language_info": {
   "codemirror_mode": {
    "name": "ipython",
    "version": 2
   },
   "file_extension": ".py",
   "mimetype": "text/x-python",
   "name": "python",
   "nbconvert_exporter": "python",
   "pygments_lexer": "ipython2",
   "version": "2.7.6"
  }
 },
 "nbformat": 4,
 "nbformat_minor": 0
}
