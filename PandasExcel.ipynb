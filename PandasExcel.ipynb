{
 "cells": [
  {
   "cell_type": "code",
   "execution_count": 51,
   "metadata": {
    "collapsed": true,
    "ExecuteTime": {
     "end_time": "2023-06-05T03:24:20.117213700Z",
     "start_time": "2023-06-05T03:24:20.106756400Z"
    }
   },
   "outputs": [],
   "source": [
    "import pandas as pd"
   ]
  },
  {
   "cell_type": "code",
   "execution_count": 52,
   "outputs": [],
   "source": [
    "df1 = pd.read_excel(\"datasets/Aracaju.xlsx\")\n",
    "df2 = pd.read_excel(\"datasets/Fortaleza.xlsx\")\n",
    "df3 = pd.read_excel(\"datasets/Natal.xlsx\")\n",
    "df4 = pd.read_excel(\"datasets/Recife.xlsx\")\n",
    "df5 = pd.read_excel(\"datasets/Salvador.xlsx\")"
   ],
   "metadata": {
    "collapsed": false,
    "ExecuteTime": {
     "end_time": "2023-06-05T03:24:20.596761700Z",
     "start_time": "2023-06-05T03:24:20.508203200Z"
    }
   }
  },
  {
   "cell_type": "code",
   "execution_count": 53,
   "outputs": [],
   "source": [
    "df = pd.concat([df1, df2, df3, df4, df5])"
   ],
   "metadata": {
    "collapsed": false,
    "ExecuteTime": {
     "end_time": "2023-06-05T03:24:21.025653800Z",
     "start_time": "2023-06-05T03:24:21.020117800Z"
    }
   }
  },
  {
   "cell_type": "code",
   "execution_count": 54,
   "outputs": [
    {
     "data": {
      "text/plain": "    Cidade       Data  Vendas  LojaID  Qtde\n0  Aracaju 2018-01-01  142.00    1520     1\n1  Aracaju 2018-01-01   14.21    1522     6\n2  Aracaju 2018-01-01   71.55    1520     1\n3  Aracaju 2018-01-01    3.01    1521     7\n4  Aracaju 2018-01-01   24.51    1522     8",
      "text/html": "<div>\n<style scoped>\n    .dataframe tbody tr th:only-of-type {\n        vertical-align: middle;\n    }\n\n    .dataframe tbody tr th {\n        vertical-align: top;\n    }\n\n    .dataframe thead th {\n        text-align: right;\n    }\n</style>\n<table border=\"1\" class=\"dataframe\">\n  <thead>\n    <tr style=\"text-align: right;\">\n      <th></th>\n      <th>Cidade</th>\n      <th>Data</th>\n      <th>Vendas</th>\n      <th>LojaID</th>\n      <th>Qtde</th>\n    </tr>\n  </thead>\n  <tbody>\n    <tr>\n      <th>0</th>\n      <td>Aracaju</td>\n      <td>2018-01-01</td>\n      <td>142.00</td>\n      <td>1520</td>\n      <td>1</td>\n    </tr>\n    <tr>\n      <th>1</th>\n      <td>Aracaju</td>\n      <td>2018-01-01</td>\n      <td>14.21</td>\n      <td>1522</td>\n      <td>6</td>\n    </tr>\n    <tr>\n      <th>2</th>\n      <td>Aracaju</td>\n      <td>2018-01-01</td>\n      <td>71.55</td>\n      <td>1520</td>\n      <td>1</td>\n    </tr>\n    <tr>\n      <th>3</th>\n      <td>Aracaju</td>\n      <td>2018-01-01</td>\n      <td>3.01</td>\n      <td>1521</td>\n      <td>7</td>\n    </tr>\n    <tr>\n      <th>4</th>\n      <td>Aracaju</td>\n      <td>2018-01-01</td>\n      <td>24.51</td>\n      <td>1522</td>\n      <td>8</td>\n    </tr>\n  </tbody>\n</table>\n</div>"
     },
     "execution_count": 54,
     "metadata": {},
     "output_type": "execute_result"
    }
   ],
   "source": [
    "df.head()"
   ],
   "metadata": {
    "collapsed": false,
    "ExecuteTime": {
     "end_time": "2023-06-05T03:24:21.243296Z",
     "start_time": "2023-06-05T03:24:21.229290200Z"
    }
   }
  },
  {
   "cell_type": "code",
   "execution_count": 55,
   "outputs": [
    {
     "data": {
      "text/plain": "Index(['Cidade', 'Data', 'Vendas', 'LojaID', 'Qtde'], dtype='object')"
     },
     "execution_count": 55,
     "metadata": {},
     "output_type": "execute_result"
    }
   ],
   "source": [
    "df.columns"
   ],
   "metadata": {
    "collapsed": false,
    "ExecuteTime": {
     "end_time": "2023-06-05T03:24:21.414822500Z",
     "start_time": "2023-06-05T03:24:21.403820100Z"
    }
   }
  },
  {
   "cell_type": "code",
   "execution_count": 56,
   "outputs": [
    {
     "data": {
      "text/plain": "array(['Aracaju', 'Fortaleza', 'Natal', 'Recife', 'Salvador'],\n      dtype=object)"
     },
     "execution_count": 56,
     "metadata": {},
     "output_type": "execute_result"
    }
   ],
   "source": [
    "df['Cidade'].unique()"
   ],
   "metadata": {
    "collapsed": false,
    "ExecuteTime": {
     "end_time": "2023-06-05T03:24:21.588704700Z",
     "start_time": "2023-06-05T03:24:21.573711300Z"
    }
   }
  },
  {
   "cell_type": "code",
   "execution_count": 57,
   "outputs": [
    {
     "data": {
      "text/plain": "Cidade            object\nData      datetime64[ns]\nVendas           float64\nLojaID             int64\nQtde               int64\ndtype: object"
     },
     "execution_count": 57,
     "metadata": {},
     "output_type": "execute_result"
    }
   ],
   "source": [
    "df.dtypes"
   ],
   "metadata": {
    "collapsed": false,
    "ExecuteTime": {
     "end_time": "2023-06-05T03:24:21.753763100Z",
     "start_time": "2023-06-05T03:24:21.738765300Z"
    }
   }
  },
  {
   "cell_type": "code",
   "execution_count": 58,
   "outputs": [],
   "source": [
    "#mudando o tipo de dado de uma coluna\n",
    "df['LojaID'] = df['LojaID'].astype('object')"
   ],
   "metadata": {
    "collapsed": false,
    "ExecuteTime": {
     "end_time": "2023-06-05T03:24:21.913197700Z",
     "start_time": "2023-06-05T03:24:21.910200600Z"
    }
   }
  },
  {
   "cell_type": "code",
   "execution_count": 59,
   "outputs": [
    {
     "data": {
      "text/plain": "       Cidade       Data  Vendas LojaID  Qtde\n102     Natal 2019-01-02   40.84   1034     3\n178  Salvador 2019-01-02   39.28   1037     3\n235  Salvador 2019-01-03   41.84   1034     1\n95      Natal 2019-01-02    5.13   1035     1\n151     Natal 2019-01-02   14.63   1035     1",
      "text/html": "<div>\n<style scoped>\n    .dataframe tbody tr th:only-of-type {\n        vertical-align: middle;\n    }\n\n    .dataframe tbody tr th {\n        vertical-align: top;\n    }\n\n    .dataframe thead th {\n        text-align: right;\n    }\n</style>\n<table border=\"1\" class=\"dataframe\">\n  <thead>\n    <tr style=\"text-align: right;\">\n      <th></th>\n      <th>Cidade</th>\n      <th>Data</th>\n      <th>Vendas</th>\n      <th>LojaID</th>\n      <th>Qtde</th>\n    </tr>\n  </thead>\n  <tbody>\n    <tr>\n      <th>102</th>\n      <td>Natal</td>\n      <td>2019-01-02</td>\n      <td>40.84</td>\n      <td>1034</td>\n      <td>3</td>\n    </tr>\n    <tr>\n      <th>178</th>\n      <td>Salvador</td>\n      <td>2019-01-02</td>\n      <td>39.28</td>\n      <td>1037</td>\n      <td>3</td>\n    </tr>\n    <tr>\n      <th>235</th>\n      <td>Salvador</td>\n      <td>2019-01-03</td>\n      <td>41.84</td>\n      <td>1034</td>\n      <td>1</td>\n    </tr>\n    <tr>\n      <th>95</th>\n      <td>Natal</td>\n      <td>2019-01-02</td>\n      <td>5.13</td>\n      <td>1035</td>\n      <td>1</td>\n    </tr>\n    <tr>\n      <th>151</th>\n      <td>Natal</td>\n      <td>2019-01-02</td>\n      <td>14.63</td>\n      <td>1035</td>\n      <td>1</td>\n    </tr>\n  </tbody>\n</table>\n</div>"
     },
     "execution_count": 59,
     "metadata": {},
     "output_type": "execute_result"
    }
   ],
   "source": [
    "#pegando amostras\n",
    "df.sample(5)"
   ],
   "metadata": {
    "collapsed": false,
    "ExecuteTime": {
     "end_time": "2023-06-05T03:24:22.104185200Z",
     "start_time": "2023-06-05T03:24:22.090187600Z"
    }
   }
  },
  {
   "cell_type": "code",
   "execution_count": 60,
   "outputs": [
    {
     "data": {
      "text/plain": "Cidade    0\nData      0\nVendas    0\nLojaID    0\nQtde      0\ndtype: int64"
     },
     "execution_count": 60,
     "metadata": {},
     "output_type": "execute_result"
    }
   ],
   "source": [
    "#consultando valores nulos\n",
    "df.isnull().sum()"
   ],
   "metadata": {
    "collapsed": false,
    "ExecuteTime": {
     "end_time": "2023-06-05T03:24:22.291307300Z",
     "start_time": "2023-06-05T03:24:22.263311900Z"
    }
   }
  },
  {
   "cell_type": "code",
   "execution_count": 61,
   "outputs": [],
   "source": [
    "#substituindo valores nulos pela média\n",
    "df['Vendas'].fillna(df['Vendas'].mean(), inplace=True)"
   ],
   "metadata": {
    "collapsed": false,
    "ExecuteTime": {
     "end_time": "2023-06-05T03:24:22.451357300Z",
     "start_time": "2023-06-05T03:24:22.447356700Z"
    }
   }
  },
  {
   "cell_type": "code",
   "execution_count": 62,
   "outputs": [],
   "source": [
    "#substituindo valores nulos por zero\n",
    "df['Vendas'].fillna(0, inplace=True)"
   ],
   "metadata": {
    "collapsed": false,
    "ExecuteTime": {
     "end_time": "2023-06-05T03:24:22.636108600Z",
     "start_time": "2023-06-05T03:24:22.623880900Z"
    }
   }
  },
  {
   "cell_type": "code",
   "execution_count": 63,
   "outputs": [],
   "source": [
    "#apagando linhas com valores nulos\n",
    "df.dropna(inplace=True)"
   ],
   "metadata": {
    "collapsed": false,
    "ExecuteTime": {
     "end_time": "2023-06-05T03:24:23.211806300Z",
     "start_time": "2023-06-05T03:24:23.198802300Z"
    }
   }
  },
  {
   "cell_type": "code",
   "execution_count": 64,
   "outputs": [],
   "source": [
    "#apagando linhas com valores nulos com base em uma coluna\n",
    "df.dropna(subset=['Vendas'], inplace=True)"
   ],
   "metadata": {
    "collapsed": false,
    "ExecuteTime": {
     "end_time": "2023-06-05T03:24:23.382448700Z",
     "start_time": "2023-06-05T03:24:23.369449Z"
    }
   }
  },
  {
   "cell_type": "code",
   "execution_count": 65,
   "outputs": [],
   "source": [
    "#removendo linhas que estejam com valores faltantes em todas as colunas\n",
    "df.dropna(how='all', inplace=True)"
   ],
   "metadata": {
    "collapsed": false,
    "ExecuteTime": {
     "end_time": "2023-06-05T03:24:23.543475600Z",
     "start_time": "2023-06-05T03:24:23.530479800Z"
    }
   }
  },
  {
   "cell_type": "code",
   "execution_count": 66,
   "outputs": [],
   "source": [
    "#criando colunas novas\n",
    "df['Receita'] = df['Vendas'].mul(df['Qtde'])"
   ],
   "metadata": {
    "collapsed": false,
    "ExecuteTime": {
     "end_time": "2023-06-05T03:24:23.714672800Z",
     "start_time": "2023-06-05T03:24:23.701669400Z"
    }
   }
  },
  {
   "cell_type": "code",
   "execution_count": 67,
   "outputs": [
    {
     "data": {
      "text/plain": "    Cidade       Data  Vendas LojaID  Qtde  Receita\n0  Aracaju 2018-01-01  142.00   1520     1   142.00\n1  Aracaju 2018-01-01   14.21   1522     6    85.26\n2  Aracaju 2018-01-01   71.55   1520     1    71.55\n3  Aracaju 2018-01-01    3.01   1521     7    21.07\n4  Aracaju 2018-01-01   24.51   1522     8   196.08",
      "text/html": "<div>\n<style scoped>\n    .dataframe tbody tr th:only-of-type {\n        vertical-align: middle;\n    }\n\n    .dataframe tbody tr th {\n        vertical-align: top;\n    }\n\n    .dataframe thead th {\n        text-align: right;\n    }\n</style>\n<table border=\"1\" class=\"dataframe\">\n  <thead>\n    <tr style=\"text-align: right;\">\n      <th></th>\n      <th>Cidade</th>\n      <th>Data</th>\n      <th>Vendas</th>\n      <th>LojaID</th>\n      <th>Qtde</th>\n      <th>Receita</th>\n    </tr>\n  </thead>\n  <tbody>\n    <tr>\n      <th>0</th>\n      <td>Aracaju</td>\n      <td>2018-01-01</td>\n      <td>142.00</td>\n      <td>1520</td>\n      <td>1</td>\n      <td>142.00</td>\n    </tr>\n    <tr>\n      <th>1</th>\n      <td>Aracaju</td>\n      <td>2018-01-01</td>\n      <td>14.21</td>\n      <td>1522</td>\n      <td>6</td>\n      <td>85.26</td>\n    </tr>\n    <tr>\n      <th>2</th>\n      <td>Aracaju</td>\n      <td>2018-01-01</td>\n      <td>71.55</td>\n      <td>1520</td>\n      <td>1</td>\n      <td>71.55</td>\n    </tr>\n    <tr>\n      <th>3</th>\n      <td>Aracaju</td>\n      <td>2018-01-01</td>\n      <td>3.01</td>\n      <td>1521</td>\n      <td>7</td>\n      <td>21.07</td>\n    </tr>\n    <tr>\n      <th>4</th>\n      <td>Aracaju</td>\n      <td>2018-01-01</td>\n      <td>24.51</td>\n      <td>1522</td>\n      <td>8</td>\n      <td>196.08</td>\n    </tr>\n  </tbody>\n</table>\n</div>"
     },
     "execution_count": 67,
     "metadata": {},
     "output_type": "execute_result"
    }
   ],
   "source": [
    "df.head()"
   ],
   "metadata": {
    "collapsed": false,
    "ExecuteTime": {
     "end_time": "2023-06-05T03:24:23.889774900Z",
     "start_time": "2023-06-05T03:24:23.874774400Z"
    }
   }
  },
  {
   "cell_type": "code",
   "execution_count": 68,
   "outputs": [
    {
     "data": {
      "text/plain": "3544.0"
     },
     "execution_count": 68,
     "metadata": {},
     "output_type": "execute_result"
    }
   ],
   "source": [
    "df['Receita'].max()"
   ],
   "metadata": {
    "collapsed": false,
    "ExecuteTime": {
     "end_time": "2023-06-05T03:24:24.472288Z",
     "start_time": "2023-06-05T03:24:24.460288200Z"
    }
   }
  },
  {
   "cell_type": "code",
   "execution_count": 69,
   "outputs": [
    {
     "data": {
      "text/plain": "3.34"
     },
     "execution_count": 69,
     "metadata": {},
     "output_type": "execute_result"
    }
   ],
   "source": [
    "df['Receita'].min()"
   ],
   "metadata": {
    "collapsed": false,
    "ExecuteTime": {
     "end_time": "2023-06-05T03:24:24.654346400Z",
     "start_time": "2023-06-05T03:24:24.639348300Z"
    }
   }
  },
  {
   "cell_type": "code",
   "execution_count": 70,
   "outputs": [
    {
     "data": {
      "text/plain": "   Cidade       Data  Vendas LojaID  Qtde  Receita\n7   Natal 2019-03-18   886.0    853     4   3544.0\n51  Natal 2018-01-21   859.0    852     4   3436.0\n55  Natal 2019-01-08   859.0    854     4   3436.0",
      "text/html": "<div>\n<style scoped>\n    .dataframe tbody tr th:only-of-type {\n        vertical-align: middle;\n    }\n\n    .dataframe tbody tr th {\n        vertical-align: top;\n    }\n\n    .dataframe thead th {\n        text-align: right;\n    }\n</style>\n<table border=\"1\" class=\"dataframe\">\n  <thead>\n    <tr style=\"text-align: right;\">\n      <th></th>\n      <th>Cidade</th>\n      <th>Data</th>\n      <th>Vendas</th>\n      <th>LojaID</th>\n      <th>Qtde</th>\n      <th>Receita</th>\n    </tr>\n  </thead>\n  <tbody>\n    <tr>\n      <th>7</th>\n      <td>Natal</td>\n      <td>2019-03-18</td>\n      <td>886.0</td>\n      <td>853</td>\n      <td>4</td>\n      <td>3544.0</td>\n    </tr>\n    <tr>\n      <th>51</th>\n      <td>Natal</td>\n      <td>2018-01-21</td>\n      <td>859.0</td>\n      <td>852</td>\n      <td>4</td>\n      <td>3436.0</td>\n    </tr>\n    <tr>\n      <th>55</th>\n      <td>Natal</td>\n      <td>2019-01-08</td>\n      <td>859.0</td>\n      <td>854</td>\n      <td>4</td>\n      <td>3436.0</td>\n    </tr>\n  </tbody>\n</table>\n</div>"
     },
     "execution_count": 70,
     "metadata": {},
     "output_type": "execute_result"
    }
   ],
   "source": [
    "#nlargest - retorna os n maiores valores de uma coluna\n",
    "df.nlargest(3, 'Receita')"
   ],
   "metadata": {
    "collapsed": false,
    "ExecuteTime": {
     "end_time": "2023-06-05T03:24:25.082279200Z",
     "start_time": "2023-06-05T03:24:25.066279100Z"
    }
   }
  },
  {
   "cell_type": "code",
   "execution_count": 71,
   "outputs": [
    {
     "data": {
      "text/plain": "      Cidade       Data  Vendas LojaID  Qtde  Receita\n118  Aracaju 2018-01-01    3.34   1522     1     3.34\n65    Recife 2019-01-01    4.01    981     1     4.01\n92     Natal 2019-01-02    4.57   1035     1     4.57",
      "text/html": "<div>\n<style scoped>\n    .dataframe tbody tr th:only-of-type {\n        vertical-align: middle;\n    }\n\n    .dataframe tbody tr th {\n        vertical-align: top;\n    }\n\n    .dataframe thead th {\n        text-align: right;\n    }\n</style>\n<table border=\"1\" class=\"dataframe\">\n  <thead>\n    <tr style=\"text-align: right;\">\n      <th></th>\n      <th>Cidade</th>\n      <th>Data</th>\n      <th>Vendas</th>\n      <th>LojaID</th>\n      <th>Qtde</th>\n      <th>Receita</th>\n    </tr>\n  </thead>\n  <tbody>\n    <tr>\n      <th>118</th>\n      <td>Aracaju</td>\n      <td>2018-01-01</td>\n      <td>3.34</td>\n      <td>1522</td>\n      <td>1</td>\n      <td>3.34</td>\n    </tr>\n    <tr>\n      <th>65</th>\n      <td>Recife</td>\n      <td>2019-01-01</td>\n      <td>4.01</td>\n      <td>981</td>\n      <td>1</td>\n      <td>4.01</td>\n    </tr>\n    <tr>\n      <th>92</th>\n      <td>Natal</td>\n      <td>2019-01-02</td>\n      <td>4.57</td>\n      <td>1035</td>\n      <td>1</td>\n      <td>4.57</td>\n    </tr>\n  </tbody>\n</table>\n</div>"
     },
     "execution_count": 71,
     "metadata": {},
     "output_type": "execute_result"
    }
   ],
   "source": [
    "#nsmallest - retorna os n menores valores de uma coluna\n",
    "df.nsmallest(3, 'Receita')"
   ],
   "metadata": {
    "collapsed": false,
    "ExecuteTime": {
     "end_time": "2023-06-05T03:24:25.245504700Z",
     "start_time": "2023-06-05T03:24:25.227508Z"
    }
   }
  },
  {
   "cell_type": "code",
   "execution_count": 72,
   "outputs": [
    {
     "data": {
      "text/plain": "Cidade\nAracaju       48748.25\nFortaleza     37913.97\nNatal        167227.52\nRecife        51936.51\nSalvador      40596.73\nName: Receita, dtype: float64"
     },
     "execution_count": 72,
     "metadata": {},
     "output_type": "execute_result"
    }
   ],
   "source": [
    "#agrupamento por cidade\n",
    "df.groupby('Cidade')['Receita'].sum()"
   ],
   "metadata": {
    "collapsed": false,
    "ExecuteTime": {
     "end_time": "2023-06-05T03:24:25.415023800Z",
     "start_time": "2023-06-05T03:24:25.397021700Z"
    }
   }
  },
  {
   "cell_type": "code",
   "execution_count": 73,
   "outputs": [
    {
     "data": {
      "text/plain": "Cidade        \nAracaju    118     3.34\n           102     7.29\n           8      12.16\nFortaleza  81     10.68\n           92     13.96\n           34     15.50\nNatal      92      4.57\n           95      5.13\n           161     5.80\nRecife     65      4.01\n           1      11.44\n           15     14.90\nSalvador   92      4.57\n           95      5.13\n           161     5.80\nName: Receita, dtype: float64"
     },
     "execution_count": 73,
     "metadata": {},
     "output_type": "execute_result"
    }
   ],
   "source": [
    "df.groupby('Cidade')['Receita'].nsmallest(3)"
   ],
   "metadata": {
    "collapsed": false,
    "ExecuteTime": {
     "end_time": "2023-06-05T03:24:26.092955300Z",
     "start_time": "2023-06-05T03:24:26.070916200Z"
    }
   }
  },
  {
   "cell_type": "code",
   "execution_count": 74,
   "outputs": [
    {
     "data": {
      "text/plain": "Cidade        \nAracaju    41     1837.12\n           94     1784.16\n           23     1662.50\nFortaleza  141    1462.00\n           69     1299.90\n           27     1274.22\nNatal      7      3544.00\n           51     3436.00\n           55     3436.00\nRecife     46     1913.36\n           141    1462.00\n           19     1396.01\nSalvador   127     721.83\n           155     713.43\n           98      695.28\nName: Receita, dtype: float64"
     },
     "execution_count": 74,
     "metadata": {},
     "output_type": "execute_result"
    }
   ],
   "source": [
    "df.groupby('Cidade')['Receita'].nlargest(3)"
   ],
   "metadata": {
    "collapsed": false,
    "ExecuteTime": {
     "end_time": "2023-06-05T03:24:26.304905500Z",
     "start_time": "2023-06-05T03:24:26.279903100Z"
    }
   }
  },
  {
   "cell_type": "code",
   "execution_count": 75,
   "outputs": [
    {
     "data": {
      "text/plain": "   Cidade       Data  Vendas LojaID  Qtde  Receita\n7   Natal 2019-03-18   886.0    853     4   3544.0\n55  Natal 2019-01-08   859.0    854     4   3436.0\n51  Natal 2018-01-21   859.0    852     4   3436.0\n30  Natal 2018-10-02   856.0    853     4   3424.0\n41  Natal 2018-05-20   835.0    852     4   3340.0\n38  Natal 2018-02-25   828.0    852     4   3312.0\n10  Natal 2018-10-27   828.0    852     4   3312.0\n69  Natal 2019-03-24   817.0    852     4   3268.0\n62  Natal 2018-02-10   793.0    854     4   3172.0\n52  Natal 2018-04-27   778.0    854     4   3112.0",
      "text/html": "<div>\n<style scoped>\n    .dataframe tbody tr th:only-of-type {\n        vertical-align: middle;\n    }\n\n    .dataframe tbody tr th {\n        vertical-align: top;\n    }\n\n    .dataframe thead th {\n        text-align: right;\n    }\n</style>\n<table border=\"1\" class=\"dataframe\">\n  <thead>\n    <tr style=\"text-align: right;\">\n      <th></th>\n      <th>Cidade</th>\n      <th>Data</th>\n      <th>Vendas</th>\n      <th>LojaID</th>\n      <th>Qtde</th>\n      <th>Receita</th>\n    </tr>\n  </thead>\n  <tbody>\n    <tr>\n      <th>7</th>\n      <td>Natal</td>\n      <td>2019-03-18</td>\n      <td>886.0</td>\n      <td>853</td>\n      <td>4</td>\n      <td>3544.0</td>\n    </tr>\n    <tr>\n      <th>55</th>\n      <td>Natal</td>\n      <td>2019-01-08</td>\n      <td>859.0</td>\n      <td>854</td>\n      <td>4</td>\n      <td>3436.0</td>\n    </tr>\n    <tr>\n      <th>51</th>\n      <td>Natal</td>\n      <td>2018-01-21</td>\n      <td>859.0</td>\n      <td>852</td>\n      <td>4</td>\n      <td>3436.0</td>\n    </tr>\n    <tr>\n      <th>30</th>\n      <td>Natal</td>\n      <td>2018-10-02</td>\n      <td>856.0</td>\n      <td>853</td>\n      <td>4</td>\n      <td>3424.0</td>\n    </tr>\n    <tr>\n      <th>41</th>\n      <td>Natal</td>\n      <td>2018-05-20</td>\n      <td>835.0</td>\n      <td>852</td>\n      <td>4</td>\n      <td>3340.0</td>\n    </tr>\n    <tr>\n      <th>38</th>\n      <td>Natal</td>\n      <td>2018-02-25</td>\n      <td>828.0</td>\n      <td>852</td>\n      <td>4</td>\n      <td>3312.0</td>\n    </tr>\n    <tr>\n      <th>10</th>\n      <td>Natal</td>\n      <td>2018-10-27</td>\n      <td>828.0</td>\n      <td>852</td>\n      <td>4</td>\n      <td>3312.0</td>\n    </tr>\n    <tr>\n      <th>69</th>\n      <td>Natal</td>\n      <td>2019-03-24</td>\n      <td>817.0</td>\n      <td>852</td>\n      <td>4</td>\n      <td>3268.0</td>\n    </tr>\n    <tr>\n      <th>62</th>\n      <td>Natal</td>\n      <td>2018-02-10</td>\n      <td>793.0</td>\n      <td>854</td>\n      <td>4</td>\n      <td>3172.0</td>\n    </tr>\n    <tr>\n      <th>52</th>\n      <td>Natal</td>\n      <td>2018-04-27</td>\n      <td>778.0</td>\n      <td>854</td>\n      <td>4</td>\n      <td>3112.0</td>\n    </tr>\n  </tbody>\n</table>\n</div>"
     },
     "execution_count": 75,
     "metadata": {},
     "output_type": "execute_result"
    }
   ],
   "source": [
    "df.sort_values('Receita', ascending=False).head(10)"
   ],
   "metadata": {
    "collapsed": false,
    "ExecuteTime": {
     "end_time": "2023-06-05T03:24:26.889286800Z",
     "start_time": "2023-06-05T03:24:26.874274200Z"
    }
   }
  },
  {
   "cell_type": "code",
   "execution_count": 76,
   "outputs": [],
   "source": [
    "df[\"Data\"] = df[\"Data\"].astype(\"int64\")"
   ],
   "metadata": {
    "collapsed": false,
    "ExecuteTime": {
     "end_time": "2023-06-05T03:24:27.419042200Z",
     "start_time": "2023-06-05T03:24:27.417042600Z"
    }
   }
  },
  {
   "cell_type": "code",
   "execution_count": 77,
   "outputs": [
    {
     "data": {
      "text/plain": "Cidade      object\nData         int64\nVendas     float64\nLojaID      object\nQtde         int64\nReceita    float64\ndtype: object"
     },
     "execution_count": 77,
     "metadata": {},
     "output_type": "execute_result"
    }
   ],
   "source": [
    "df.dtypes"
   ],
   "metadata": {
    "collapsed": false,
    "ExecuteTime": {
     "end_time": "2023-06-05T03:24:30.850181500Z",
     "start_time": "2023-06-05T03:24:30.845660400Z"
    }
   }
  },
  {
   "cell_type": "code",
   "execution_count": 78,
   "outputs": [],
   "source": [
    "#passa para o formato de data\n",
    "df[\"Data\"] = pd.to_datetime(df[\"Data\"])"
   ],
   "metadata": {
    "collapsed": false,
    "ExecuteTime": {
     "end_time": "2023-06-05T03:24:32.806661800Z",
     "start_time": "2023-06-05T03:24:32.779651900Z"
    }
   }
  },
  {
   "cell_type": "code",
   "execution_count": 79,
   "outputs": [
    {
     "data": {
      "text/plain": "Cidade             object\nData       datetime64[ns]\nVendas            float64\nLojaID             object\nQtde                int64\nReceita           float64\ndtype: object"
     },
     "execution_count": 79,
     "metadata": {},
     "output_type": "execute_result"
    }
   ],
   "source": [
    "df.dtypes"
   ],
   "metadata": {
    "collapsed": false,
    "ExecuteTime": {
     "end_time": "2023-06-05T03:24:33.872346300Z",
     "start_time": "2023-06-05T03:24:33.859368600Z"
    }
   }
  },
  {
   "cell_type": "code",
   "execution_count": 80,
   "outputs": [
    {
     "data": {
      "text/plain": "Data\n1     188456.50\n2      37244.47\n3      67794.01\n4      13586.00\n5       8965.00\n6       7097.00\n7       4462.00\n8       1212.00\n9       5984.00\n10      9680.00\n11      1126.00\n12       816.00\nName: Receita, dtype: float64"
     },
     "execution_count": 80,
     "metadata": {},
     "output_type": "execute_result"
    }
   ],
   "source": [
    "df.groupby(df[\"Data\"].dt.month)[\"Receita\"].sum()"
   ],
   "metadata": {
    "collapsed": false,
    "ExecuteTime": {
     "end_time": "2023-06-05T03:24:36.776138600Z",
     "start_time": "2023-06-05T03:24:36.764578Z"
    }
   }
  },
  {
   "cell_type": "code",
   "execution_count": 81,
   "outputs": [],
   "source": [
    "df['Ano venda'] = df['Data'].dt.year"
   ],
   "metadata": {
    "collapsed": false,
    "ExecuteTime": {
     "end_time": "2023-06-05T03:24:40.019704900Z",
     "start_time": "2023-06-05T03:24:40.016656600Z"
    }
   }
  },
  {
   "cell_type": "code",
   "execution_count": 87,
   "outputs": [
    {
     "data": {
      "text/plain": "       Cidade       Data  Vendas LojaID  Qtde  Receita  Ano venda\n210     Natal 2019-01-02  197.64   1035     1   197.64       2019\n49      Natal 2019-04-01  831.00    852     2  1662.00       2019\n123   Aracaju 2018-01-01  115.19   1523     6   691.14       2018\n56   Salvador 2019-01-01  178.44   1035     3   535.32       2019\n236     Natal 2019-01-03  126.29   1035     3   378.87       2019",
      "text/html": "<div>\n<style scoped>\n    .dataframe tbody tr th:only-of-type {\n        vertical-align: middle;\n    }\n\n    .dataframe tbody tr th {\n        vertical-align: top;\n    }\n\n    .dataframe thead th {\n        text-align: right;\n    }\n</style>\n<table border=\"1\" class=\"dataframe\">\n  <thead>\n    <tr style=\"text-align: right;\">\n      <th></th>\n      <th>Cidade</th>\n      <th>Data</th>\n      <th>Vendas</th>\n      <th>LojaID</th>\n      <th>Qtde</th>\n      <th>Receita</th>\n      <th>Ano venda</th>\n    </tr>\n  </thead>\n  <tbody>\n    <tr>\n      <th>210</th>\n      <td>Natal</td>\n      <td>2019-01-02</td>\n      <td>197.64</td>\n      <td>1035</td>\n      <td>1</td>\n      <td>197.64</td>\n      <td>2019</td>\n    </tr>\n    <tr>\n      <th>49</th>\n      <td>Natal</td>\n      <td>2019-04-01</td>\n      <td>831.00</td>\n      <td>852</td>\n      <td>2</td>\n      <td>1662.00</td>\n      <td>2019</td>\n    </tr>\n    <tr>\n      <th>123</th>\n      <td>Aracaju</td>\n      <td>2018-01-01</td>\n      <td>115.19</td>\n      <td>1523</td>\n      <td>6</td>\n      <td>691.14</td>\n      <td>2018</td>\n    </tr>\n    <tr>\n      <th>56</th>\n      <td>Salvador</td>\n      <td>2019-01-01</td>\n      <td>178.44</td>\n      <td>1035</td>\n      <td>3</td>\n      <td>535.32</td>\n      <td>2019</td>\n    </tr>\n    <tr>\n      <th>236</th>\n      <td>Natal</td>\n      <td>2019-01-03</td>\n      <td>126.29</td>\n      <td>1035</td>\n      <td>3</td>\n      <td>378.87</td>\n      <td>2019</td>\n    </tr>\n  </tbody>\n</table>\n</div>"
     },
     "execution_count": 87,
     "metadata": {},
     "output_type": "execute_result"
    }
   ],
   "source": [
    "df.sample(5)"
   ],
   "metadata": {
    "collapsed": false,
    "ExecuteTime": {
     "end_time": "2023-06-05T03:25:46.088673900Z",
     "start_time": "2023-06-05T03:25:46.077663200Z"
    }
   }
  },
  {
   "cell_type": "code",
   "execution_count": 88,
   "outputs": [],
   "source": [
    "#Coluna de trimestre\n",
    "df['Trimestre venda'] = df['Data'].dt.quarter"
   ],
   "metadata": {
    "collapsed": false,
    "ExecuteTime": {
     "end_time": "2023-06-05T03:26:37.553561300Z",
     "start_time": "2023-06-05T03:26:37.547561900Z"
    }
   }
  },
  {
   "cell_type": "code",
   "execution_count": 89,
   "outputs": [
    {
     "data": {
      "text/plain": "        Cidade       Data  Vendas LojaID  Qtde  Receita  Ano venda   \n39      Recife 2019-01-01  143.58    981     3   430.74       2019  \\\n69   Fortaleza 2019-01-01  216.65   1003     6  1299.90       2019   \n107     Recife 2019-01-01   15.40    980     7   107.80       2019   \n44    Salvador 2019-01-01   43.26   1037     2    86.52       2019   \n134   Salvador 2019-03-02  125.90   1036     1   125.90       2019   \n\n     Trimestre venda  \n39                 1  \n69                 1  \n107                1  \n44                 1  \n134                1  ",
      "text/html": "<div>\n<style scoped>\n    .dataframe tbody tr th:only-of-type {\n        vertical-align: middle;\n    }\n\n    .dataframe tbody tr th {\n        vertical-align: top;\n    }\n\n    .dataframe thead th {\n        text-align: right;\n    }\n</style>\n<table border=\"1\" class=\"dataframe\">\n  <thead>\n    <tr style=\"text-align: right;\">\n      <th></th>\n      <th>Cidade</th>\n      <th>Data</th>\n      <th>Vendas</th>\n      <th>LojaID</th>\n      <th>Qtde</th>\n      <th>Receita</th>\n      <th>Ano venda</th>\n      <th>Trimestre venda</th>\n    </tr>\n  </thead>\n  <tbody>\n    <tr>\n      <th>39</th>\n      <td>Recife</td>\n      <td>2019-01-01</td>\n      <td>143.58</td>\n      <td>981</td>\n      <td>3</td>\n      <td>430.74</td>\n      <td>2019</td>\n      <td>1</td>\n    </tr>\n    <tr>\n      <th>69</th>\n      <td>Fortaleza</td>\n      <td>2019-01-01</td>\n      <td>216.65</td>\n      <td>1003</td>\n      <td>6</td>\n      <td>1299.90</td>\n      <td>2019</td>\n      <td>1</td>\n    </tr>\n    <tr>\n      <th>107</th>\n      <td>Recife</td>\n      <td>2019-01-01</td>\n      <td>15.40</td>\n      <td>980</td>\n      <td>7</td>\n      <td>107.80</td>\n      <td>2019</td>\n      <td>1</td>\n    </tr>\n    <tr>\n      <th>44</th>\n      <td>Salvador</td>\n      <td>2019-01-01</td>\n      <td>43.26</td>\n      <td>1037</td>\n      <td>2</td>\n      <td>86.52</td>\n      <td>2019</td>\n      <td>1</td>\n    </tr>\n    <tr>\n      <th>134</th>\n      <td>Salvador</td>\n      <td>2019-03-02</td>\n      <td>125.90</td>\n      <td>1036</td>\n      <td>1</td>\n      <td>125.90</td>\n      <td>2019</td>\n      <td>1</td>\n    </tr>\n  </tbody>\n</table>\n</div>"
     },
     "execution_count": 89,
     "metadata": {},
     "output_type": "execute_result"
    }
   ],
   "source": [
    "df.sample(5)"
   ],
   "metadata": {
    "collapsed": false,
    "ExecuteTime": {
     "end_time": "2023-06-05T03:26:40.026368200Z",
     "start_time": "2023-06-05T03:26:40.020367800Z"
    }
   }
  },
  {
   "cell_type": "code",
   "execution_count": 90,
   "outputs": [
    {
     "data": {
      "text/plain": "Trimestre venda\n1    293494.98\n2     29648.00\n3     11658.00\n4     11622.00\nName: Receita, dtype: float64"
     },
     "execution_count": 90,
     "metadata": {},
     "output_type": "execute_result"
    }
   ],
   "source": [
    "df.groupby(df['Trimestre venda'])['Receita'].sum()"
   ],
   "metadata": {
    "collapsed": false,
    "ExecuteTime": {
     "end_time": "2023-06-05T03:27:11.674335500Z",
     "start_time": "2023-06-05T03:27:11.668335700Z"
    }
   }
  },
  {
   "cell_type": "code",
   "execution_count": 91,
   "outputs": [],
   "source": [
    "#filtrando as vendas de 2019 do mês de março\n",
    "vendas_marco_19 = df.loc[(df['Data'].dt.year == 2019) & (df['Data'].dt.month == 3)]"
   ],
   "metadata": {
    "collapsed": false,
    "ExecuteTime": {
     "end_time": "2023-06-05T03:27:22.869043400Z",
     "start_time": "2023-06-05T03:27:22.863042900Z"
    }
   }
  },
  {
   "cell_type": "code",
   "execution_count": 92,
   "outputs": [
    {
     "data": {
      "text/plain": "        Cidade       Data  Vendas LojaID  Qtde  Receita  Ano venda   \n108  Fortaleza 2019-03-02  152.89    981     4   611.56       2019  \\\n109  Fortaleza 2019-03-02   18.90    982     6   113.40       2019   \n110  Fortaleza 2019-03-02   51.98    983     6   311.88       2019   \n111  Fortaleza 2019-03-02    8.00    981     3    24.00       2019   \n112  Fortaleza 2019-03-02  133.59    982     1   133.59       2019   \n..         ...        ...     ...    ...   ...      ...        ...   \n137   Salvador 2019-03-02   51.66   1036     3   154.98       2019   \n138   Salvador 2019-03-02  212.03   1037     3   636.09       2019   \n139   Salvador 2019-03-02  169.01   1036     1   169.01       2019   \n140   Salvador 2019-03-02   20.79   1036     2    41.58       2019   \n141   Salvador 2019-03-02    9.08   1036     1     9.08       2019   \n\n     Trimestre venda  \n108                1  \n109                1  \n110                1  \n111                1  \n112                1  \n..               ...  \n137                1  \n138                1  \n139                1  \n140                1  \n141                1  \n\n[121 rows x 8 columns]",
      "text/html": "<div>\n<style scoped>\n    .dataframe tbody tr th:only-of-type {\n        vertical-align: middle;\n    }\n\n    .dataframe tbody tr th {\n        vertical-align: top;\n    }\n\n    .dataframe thead th {\n        text-align: right;\n    }\n</style>\n<table border=\"1\" class=\"dataframe\">\n  <thead>\n    <tr style=\"text-align: right;\">\n      <th></th>\n      <th>Cidade</th>\n      <th>Data</th>\n      <th>Vendas</th>\n      <th>LojaID</th>\n      <th>Qtde</th>\n      <th>Receita</th>\n      <th>Ano venda</th>\n      <th>Trimestre venda</th>\n    </tr>\n  </thead>\n  <tbody>\n    <tr>\n      <th>108</th>\n      <td>Fortaleza</td>\n      <td>2019-03-02</td>\n      <td>152.89</td>\n      <td>981</td>\n      <td>4</td>\n      <td>611.56</td>\n      <td>2019</td>\n      <td>1</td>\n    </tr>\n    <tr>\n      <th>109</th>\n      <td>Fortaleza</td>\n      <td>2019-03-02</td>\n      <td>18.90</td>\n      <td>982</td>\n      <td>6</td>\n      <td>113.40</td>\n      <td>2019</td>\n      <td>1</td>\n    </tr>\n    <tr>\n      <th>110</th>\n      <td>Fortaleza</td>\n      <td>2019-03-02</td>\n      <td>51.98</td>\n      <td>983</td>\n      <td>6</td>\n      <td>311.88</td>\n      <td>2019</td>\n      <td>1</td>\n    </tr>\n    <tr>\n      <th>111</th>\n      <td>Fortaleza</td>\n      <td>2019-03-02</td>\n      <td>8.00</td>\n      <td>981</td>\n      <td>3</td>\n      <td>24.00</td>\n      <td>2019</td>\n      <td>1</td>\n    </tr>\n    <tr>\n      <th>112</th>\n      <td>Fortaleza</td>\n      <td>2019-03-02</td>\n      <td>133.59</td>\n      <td>982</td>\n      <td>1</td>\n      <td>133.59</td>\n      <td>2019</td>\n      <td>1</td>\n    </tr>\n    <tr>\n      <th>...</th>\n      <td>...</td>\n      <td>...</td>\n      <td>...</td>\n      <td>...</td>\n      <td>...</td>\n      <td>...</td>\n      <td>...</td>\n      <td>...</td>\n    </tr>\n    <tr>\n      <th>137</th>\n      <td>Salvador</td>\n      <td>2019-03-02</td>\n      <td>51.66</td>\n      <td>1036</td>\n      <td>3</td>\n      <td>154.98</td>\n      <td>2019</td>\n      <td>1</td>\n    </tr>\n    <tr>\n      <th>138</th>\n      <td>Salvador</td>\n      <td>2019-03-02</td>\n      <td>212.03</td>\n      <td>1037</td>\n      <td>3</td>\n      <td>636.09</td>\n      <td>2019</td>\n      <td>1</td>\n    </tr>\n    <tr>\n      <th>139</th>\n      <td>Salvador</td>\n      <td>2019-03-02</td>\n      <td>169.01</td>\n      <td>1036</td>\n      <td>1</td>\n      <td>169.01</td>\n      <td>2019</td>\n      <td>1</td>\n    </tr>\n    <tr>\n      <th>140</th>\n      <td>Salvador</td>\n      <td>2019-03-02</td>\n      <td>20.79</td>\n      <td>1036</td>\n      <td>2</td>\n      <td>41.58</td>\n      <td>2019</td>\n      <td>1</td>\n    </tr>\n    <tr>\n      <th>141</th>\n      <td>Salvador</td>\n      <td>2019-03-02</td>\n      <td>9.08</td>\n      <td>1036</td>\n      <td>1</td>\n      <td>9.08</td>\n      <td>2019</td>\n      <td>1</td>\n    </tr>\n  </tbody>\n</table>\n<p>121 rows × 8 columns</p>\n</div>"
     },
     "execution_count": 92,
     "metadata": {},
     "output_type": "execute_result"
    }
   ],
   "source": [
    "vendas_marco_19"
   ],
   "metadata": {
    "collapsed": false,
    "ExecuteTime": {
     "end_time": "2023-06-05T03:27:28.151474400Z",
     "start_time": "2023-06-05T03:27:28.144474700Z"
    }
   }
  },
  {
   "cell_type": "code",
   "execution_count": null,
   "outputs": [],
   "source": [],
   "metadata": {
    "collapsed": false
   }
  }
 ],
 "metadata": {
  "kernelspec": {
   "display_name": "Python 3",
   "language": "python",
   "name": "python3"
  },
  "language_info": {
   "codemirror_mode": {
    "name": "ipython",
    "version": 2
   },
   "file_extension": ".py",
   "mimetype": "text/x-python",
   "name": "python",
   "nbconvert_exporter": "python",
   "pygments_lexer": "ipython2",
   "version": "2.7.6"
  }
 },
 "nbformat": 4,
 "nbformat_minor": 0
}
